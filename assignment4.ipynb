{
 "cells": [
  {
   "cell_type": "markdown",
   "metadata": {},
   "source": [
    "# ASSIGNMENT #4\n",
    "## MUNEEB UR REHMAN"
   ]
  },
  {
   "cell_type": "markdown",
   "metadata": {},
   "source": [
    "## 1. Make a calculator using Python with addition, subtraction, multiplication ,division and power."
   ]
  },
  {
   "cell_type": "code",
   "execution_count": 2,
   "metadata": {},
   "outputs": [
    {
     "name": "stdout",
     "output_type": "stream",
     "text": [
      "0.5555555555555556\n",
      "Thank you for using my Calculator ^_^\n"
     ]
    }
   ],
   "source": [
    "def add(a,b):\n",
    "    return a+b\n",
    "def subtract(a,b):\n",
    "    return a-b\n",
    "def mul(a,b):\n",
    "    return a*b\n",
    "def divide(a,b):\n",
    "    return a/b\n",
    "def check_operator(operator,a,b):\n",
    "    if operator=='+':\n",
    "        return add(a,b)\n",
    "    elif operator=='-':\n",
    "        return subtract(a,b)\n",
    "    elif operator=='/':\n",
    "        return divide(a,b)\n",
    "    elif operator=='*':\n",
    "        return mul(a,b)\n",
    "    else:\n",
    "        return None\n",
    "def int_input(message):\n",
    "    return int(input(message))\n",
    "def print_result(op,n1,n2,result):\n",
    "    print('------------Result------------')\n",
    "    print(f\"{n1} {op} {n2} = {result}\")\n",
    "if __name__=='__main__':\n",
    "    action = 'y'\n",
    "    while(action!='n'):\n",
    "        n1 = int_input('Enter first number: ')\n",
    "        n2 = int_input('Enter second number: ')\n",
    "        op = input('which function you want to perform?\\n please select from + - / * ')\n",
    "        result = check_operator(op,n1,n2)\n",
    "        if result!= None:\n",
    "            print_result(op,n1,n2,result)\n",
    "        else:    \n",
    "            print('please enter correct operator')\n",
    "        action = input('Run again? y/n ')\n",
    "    print('Thank you for using my Calculator ^_^')\n",
    "\n"
   ]
  },
  {
   "cell_type": "markdown",
   "metadata": {},
   "source": [
    "## 2. Write a program to check if there is any numeric value in list using for loop."
   ]
  },
  {
   "cell_type": "code",
   "execution_count": null,
   "metadata": {},
   "outputs": [],
   "source": [
    "def check_number(arr):\n",
    "    for i in arr:\n",
    "        if i.isdigit():\n",
    "            return True\n",
    "        else:\n",
    "            return False"
   ]
  },
  {
   "cell_type": "markdown",
   "metadata": {},
   "source": [
    "## 3. Write a Python script to add a key to a dictionary."
   ]
  },
  {
   "cell_type": "code",
   "execution_count": 3,
   "metadata": {},
   "outputs": [
    {
     "name": "stdout",
     "output_type": "stream",
     "text": [
      "{'3': '5'}\n"
     ]
    }
   ],
   "source": [
    "d = dict()\n",
    "key = input('enter key for dictionary ')\n",
    "value = input('enter value for the above key ')\n",
    "d[key] = value\n",
    "print(d)"
   ]
  },
  {
   "cell_type": "markdown",
   "metadata": {},
   "source": [
    "## 4. Write a Python program to sum all the numeric items in a dictionary."
   ]
  },
  {
   "cell_type": "code",
   "execution_count": 5,
   "metadata": {},
   "outputs": [
    {
     "name": "stdout",
     "output_type": "stream",
     "text": [
      "70\n",
      "83\n"
     ]
    }
   ],
   "source": [
    "d = {1:2,3:5,66:76}\n",
    "sum_key = 0\n",
    "sum_value = 0\n",
    "for key,value in d.items():\n",
    "    sum_key+=key\n",
    "    sum_value+=value\n",
    "print(sum_key)\n",
    "print(sum_value)\n"
   ]
  },
  {
   "cell_type": "markdown",
   "metadata": {},
   "source": [
    "## 5. Write a program to identify duplicate values from list."
   ]
  },
  {
   "cell_type": "code",
   "execution_count": 11,
   "metadata": {},
   "outputs": [
    {
     "name": "stdout",
     "output_type": "stream",
     "text": [
      "duplicate values are: \n",
      "2 3 4 5 "
     ]
    }
   ],
   "source": [
    "l=[1,2,3,4,5,2,3,4,7,9,5]\n",
    "l1=[]\n",
    "print('duplicate values are: ')\n",
    "for i in l:\n",
    "    if i not in l1:\n",
    "        l1.append(i)\n",
    "    else:\n",
    "        print(i,end=\" \")"
   ]
  },
  {
   "cell_type": "markdown",
   "metadata": {},
   "source": [
    "## 6. Write a Python script to check if a given key already exists in a dictionary"
   ]
  },
  {
   "cell_type": "code",
   "execution_count": null,
   "metadata": {},
   "outputs": [],
   "source": [
    "d = {1: 10, 2: 20, 3: 30, 4: 40, 5: 50, 6: 60}\n",
    "def is_key_present(x):\n",
    "  if x in d:\n",
    "      print('Key is present in the dictionary')\n",
    "  else:\n",
    "      print('Key is not present in the dictionary')\n",
    "is_key_present(5)\n",
    "is_key_present(9)\n"
   ]
  }
 ],
 "metadata": {
  "interpreter": {
   "hash": "8fdec81105d70591aa132cebc822505eff26d66e6ca239a318fe726eb0e72bd0"
  },
  "kernelspec": {
   "display_name": "Python 3.9.6 64-bit",
   "language": "python",
   "name": "python3"
  },
  "language_info": {
   "codemirror_mode": {
    "name": "ipython",
    "version": 3
   },
   "file_extension": ".py",
   "mimetype": "text/x-python",
   "name": "python",
   "nbconvert_exporter": "python",
   "pygments_lexer": "ipython3",
   "version": "3.9.6"
  },
  "orig_nbformat": 4
 },
 "nbformat": 4,
 "nbformat_minor": 2
}
